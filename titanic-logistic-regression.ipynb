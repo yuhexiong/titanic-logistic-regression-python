{
 "cells": [
  {
   "cell_type": "code",
   "execution_count": 1,
   "id": "48fe14d8",
   "metadata": {
    "_cell_guid": "b1076dfc-b9ad-4769-8c92-a6c4dae69d19",
    "_uuid": "8f2839f25d086af736a60e9eeb907d3b93b6e0e5",
    "execution": {
     "iopub.execute_input": "2023-01-22T05:38:26.526553Z",
     "iopub.status.busy": "2023-01-22T05:38:26.525864Z",
     "iopub.status.idle": "2023-01-22T05:38:27.704153Z",
     "shell.execute_reply": "2023-01-22T05:38:27.702772Z"
    },
    "papermill": {
     "duration": 1.190225,
     "end_time": "2023-01-22T05:38:27.707044",
     "exception": false,
     "start_time": "2023-01-22T05:38:26.516819",
     "status": "completed"
    },
    "tags": []
   },
   "outputs": [],
   "source": [
    "import pandas as pd\n",
    "import matplotlib.pyplot as plt \n",
    "from sklearn.linear_model import LogisticRegression"
   ]
  },
  {
   "cell_type": "code",
   "execution_count": 2,
   "id": "acb8950a",
   "metadata": {
    "execution": {
     "iopub.execute_input": "2023-01-22T05:38:27.721402Z",
     "iopub.status.busy": "2023-01-22T05:38:27.721005Z",
     "iopub.status.idle": "2023-01-22T05:38:27.754943Z",
     "shell.execute_reply": "2023-01-22T05:38:27.753607Z"
    },
    "papermill": {
     "duration": 0.04391,
     "end_time": "2023-01-22T05:38:27.757484",
     "exception": false,
     "start_time": "2023-01-22T05:38:27.713574",
     "status": "completed"
    },
    "tags": []
   },
   "outputs": [],
   "source": [
    "training_data = pd.read_csv(\"data/train.csv\")\n",
    "testing_data = pd.read_csv(\"data/test.csv\")"
   ]
  },
  {
   "cell_type": "code",
   "execution_count": 3,
   "id": "a314c702",
   "metadata": {
    "execution": {
     "iopub.execute_input": "2023-01-22T05:38:27.772094Z",
     "iopub.status.busy": "2023-01-22T05:38:27.771564Z",
     "iopub.status.idle": "2023-01-22T05:38:27.779151Z",
     "shell.execute_reply": "2023-01-22T05:38:27.778321Z"
    },
    "papermill": {
     "duration": 0.017324,
     "end_time": "2023-01-22T05:38:27.781084",
     "exception": false,
     "start_time": "2023-01-22T05:38:27.763760",
     "status": "completed"
    },
    "tags": []
   },
   "outputs": [
    {
     "data": {
      "text/plain": [
       "891"
      ]
     },
     "execution_count": 3,
     "metadata": {},
     "output_type": "execute_result"
    }
   ],
   "source": [
    "training_data.shape[0]"
   ]
  },
  {
   "cell_type": "code",
   "execution_count": 4,
   "id": "a43be844",
   "metadata": {
    "execution": {
     "iopub.execute_input": "2023-01-22T05:38:27.795722Z",
     "iopub.status.busy": "2023-01-22T05:38:27.795141Z",
     "iopub.status.idle": "2023-01-22T05:38:27.800859Z",
     "shell.execute_reply": "2023-01-22T05:38:27.800110Z"
    },
    "papermill": {
     "duration": 0.015298,
     "end_time": "2023-01-22T05:38:27.802678",
     "exception": false,
     "start_time": "2023-01-22T05:38:27.787380",
     "status": "completed"
    },
    "tags": []
   },
   "outputs": [
    {
     "data": {
      "text/plain": [
       "418"
      ]
     },
     "execution_count": 4,
     "metadata": {},
     "output_type": "execute_result"
    }
   ],
   "source": [
    "testing_data.shape[0]"
   ]
  },
  {
   "cell_type": "code",
   "execution_count": 5,
   "id": "b4f1a971",
   "metadata": {
    "execution": {
     "iopub.execute_input": "2023-01-22T05:38:27.817019Z",
     "iopub.status.busy": "2023-01-22T05:38:27.816500Z",
     "iopub.status.idle": "2023-01-22T05:38:27.837255Z",
     "shell.execute_reply": "2023-01-22T05:38:27.836082Z"
    },
    "papermill": {
     "duration": 0.031058,
     "end_time": "2023-01-22T05:38:27.839999",
     "exception": false,
     "start_time": "2023-01-22T05:38:27.808941",
     "status": "completed"
    },
    "tags": []
   },
   "outputs": [
    {
     "data": {
      "text/html": [
       "<div>\n",
       "<style scoped>\n",
       "    .dataframe tbody tr th:only-of-type {\n",
       "        vertical-align: middle;\n",
       "    }\n",
       "\n",
       "    .dataframe tbody tr th {\n",
       "        vertical-align: top;\n",
       "    }\n",
       "\n",
       "    .dataframe thead th {\n",
       "        text-align: right;\n",
       "    }\n",
       "</style>\n",
       "<table border=\"1\" class=\"dataframe\">\n",
       "  <thead>\n",
       "    <tr style=\"text-align: right;\">\n",
       "      <th></th>\n",
       "      <th>PassengerId</th>\n",
       "      <th>Survived</th>\n",
       "      <th>Pclass</th>\n",
       "      <th>Name</th>\n",
       "      <th>Sex</th>\n",
       "      <th>Age</th>\n",
       "      <th>SibSp</th>\n",
       "      <th>Parch</th>\n",
       "      <th>Ticket</th>\n",
       "      <th>Fare</th>\n",
       "      <th>Cabin</th>\n",
       "      <th>Embarked</th>\n",
       "    </tr>\n",
       "  </thead>\n",
       "  <tbody>\n",
       "    <tr>\n",
       "      <th>0</th>\n",
       "      <td>1</td>\n",
       "      <td>0</td>\n",
       "      <td>3</td>\n",
       "      <td>Braund, Mr. Owen Harris</td>\n",
       "      <td>male</td>\n",
       "      <td>22.0</td>\n",
       "      <td>1</td>\n",
       "      <td>0</td>\n",
       "      <td>A/5 21171</td>\n",
       "      <td>7.2500</td>\n",
       "      <td>NaN</td>\n",
       "      <td>S</td>\n",
       "    </tr>\n",
       "    <tr>\n",
       "      <th>1</th>\n",
       "      <td>2</td>\n",
       "      <td>1</td>\n",
       "      <td>1</td>\n",
       "      <td>Cumings, Mrs. John Bradley (Florence Briggs Th...</td>\n",
       "      <td>female</td>\n",
       "      <td>38.0</td>\n",
       "      <td>1</td>\n",
       "      <td>0</td>\n",
       "      <td>PC 17599</td>\n",
       "      <td>71.2833</td>\n",
       "      <td>C85</td>\n",
       "      <td>C</td>\n",
       "    </tr>\n",
       "    <tr>\n",
       "      <th>2</th>\n",
       "      <td>3</td>\n",
       "      <td>1</td>\n",
       "      <td>3</td>\n",
       "      <td>Heikkinen, Miss. Laina</td>\n",
       "      <td>female</td>\n",
       "      <td>26.0</td>\n",
       "      <td>0</td>\n",
       "      <td>0</td>\n",
       "      <td>STON/O2. 3101282</td>\n",
       "      <td>7.9250</td>\n",
       "      <td>NaN</td>\n",
       "      <td>S</td>\n",
       "    </tr>\n",
       "    <tr>\n",
       "      <th>3</th>\n",
       "      <td>4</td>\n",
       "      <td>1</td>\n",
       "      <td>1</td>\n",
       "      <td>Futrelle, Mrs. Jacques Heath (Lily May Peel)</td>\n",
       "      <td>female</td>\n",
       "      <td>35.0</td>\n",
       "      <td>1</td>\n",
       "      <td>0</td>\n",
       "      <td>113803</td>\n",
       "      <td>53.1000</td>\n",
       "      <td>C123</td>\n",
       "      <td>S</td>\n",
       "    </tr>\n",
       "    <tr>\n",
       "      <th>4</th>\n",
       "      <td>5</td>\n",
       "      <td>0</td>\n",
       "      <td>3</td>\n",
       "      <td>Allen, Mr. William Henry</td>\n",
       "      <td>male</td>\n",
       "      <td>35.0</td>\n",
       "      <td>0</td>\n",
       "      <td>0</td>\n",
       "      <td>373450</td>\n",
       "      <td>8.0500</td>\n",
       "      <td>NaN</td>\n",
       "      <td>S</td>\n",
       "    </tr>\n",
       "  </tbody>\n",
       "</table>\n",
       "</div>"
      ],
      "text/plain": [
       "   PassengerId  Survived  Pclass  \\\n",
       "0            1         0       3   \n",
       "1            2         1       1   \n",
       "2            3         1       3   \n",
       "3            4         1       1   \n",
       "4            5         0       3   \n",
       "\n",
       "                                                Name     Sex   Age  SibSp  \\\n",
       "0                            Braund, Mr. Owen Harris    male  22.0      1   \n",
       "1  Cumings, Mrs. John Bradley (Florence Briggs Th...  female  38.0      1   \n",
       "2                             Heikkinen, Miss. Laina  female  26.0      0   \n",
       "3       Futrelle, Mrs. Jacques Heath (Lily May Peel)  female  35.0      1   \n",
       "4                           Allen, Mr. William Henry    male  35.0      0   \n",
       "\n",
       "   Parch            Ticket     Fare Cabin Embarked  \n",
       "0      0         A/5 21171   7.2500   NaN        S  \n",
       "1      0          PC 17599  71.2833   C85        C  \n",
       "2      0  STON/O2. 3101282   7.9250   NaN        S  \n",
       "3      0            113803  53.1000  C123        S  \n",
       "4      0            373450   8.0500   NaN        S  "
      ]
     },
     "execution_count": 5,
     "metadata": {},
     "output_type": "execute_result"
    }
   ],
   "source": [
    "training_data.head()"
   ]
  },
  {
   "cell_type": "code",
   "execution_count": 6,
   "id": "03ba2f98",
   "metadata": {
    "execution": {
     "iopub.execute_input": "2023-01-22T05:38:27.854862Z",
     "iopub.status.busy": "2023-01-22T05:38:27.854519Z",
     "iopub.status.idle": "2023-01-22T05:38:27.863429Z",
     "shell.execute_reply": "2023-01-22T05:38:27.862360Z"
    },
    "papermill": {
     "duration": 0.018551,
     "end_time": "2023-01-22T05:38:27.865214",
     "exception": false,
     "start_time": "2023-01-22T05:38:27.846663",
     "status": "completed"
    },
    "tags": []
   },
   "outputs": [
    {
     "data": {
      "text/plain": [
       "PassengerId      0\n",
       "Survived         0\n",
       "Pclass           0\n",
       "Name             0\n",
       "Sex              0\n",
       "Age            177\n",
       "SibSp            0\n",
       "Parch            0\n",
       "Ticket           0\n",
       "Fare             0\n",
       "Cabin          687\n",
       "Embarked         2\n",
       "dtype: int64"
      ]
     },
     "execution_count": 6,
     "metadata": {},
     "output_type": "execute_result"
    }
   ],
   "source": [
    "training_data.isnull().sum()"
   ]
  },
  {
   "cell_type": "markdown",
   "id": "106ce75b",
   "metadata": {
    "papermill": {
     "duration": 0.006265,
     "end_time": "2023-01-22T05:38:27.878084",
     "exception": false,
     "start_time": "2023-01-22T05:38:27.871819",
     "status": "completed"
    },
    "tags": []
   },
   "source": [
    "useful features: Age, Sex, Pclass"
   ]
  },
  {
   "cell_type": "markdown",
   "id": "46de6e51",
   "metadata": {
    "papermill": {
     "duration": 0.006866,
     "end_time": "2023-01-22T05:38:27.891400",
     "exception": false,
     "start_time": "2023-01-22T05:38:27.884534",
     "status": "completed"
    },
    "tags": []
   },
   "source": [
    "<h2>Missing Values</h2>"
   ]
  },
  {
   "cell_type": "code",
   "execution_count": 7,
   "id": "7e6bc7a2",
   "metadata": {
    "execution": {
     "iopub.execute_input": "2023-01-22T05:38:27.906942Z",
     "iopub.status.busy": "2023-01-22T05:38:27.906383Z",
     "iopub.status.idle": "2023-01-22T05:38:27.925412Z",
     "shell.execute_reply": "2023-01-22T05:38:27.924508Z"
    },
    "papermill": {
     "duration": 0.03163,
     "end_time": "2023-01-22T05:38:27.929511",
     "exception": false,
     "start_time": "2023-01-22T05:38:27.897881",
     "status": "completed"
    },
    "tags": []
   },
   "outputs": [
    {
     "data": {
      "text/html": [
       "<div>\n",
       "<style scoped>\n",
       "    .dataframe tbody tr th:only-of-type {\n",
       "        vertical-align: middle;\n",
       "    }\n",
       "\n",
       "    .dataframe tbody tr th {\n",
       "        vertical-align: top;\n",
       "    }\n",
       "\n",
       "    .dataframe thead th {\n",
       "        text-align: right;\n",
       "    }\n",
       "</style>\n",
       "<table border=\"1\" class=\"dataframe\">\n",
       "  <thead>\n",
       "    <tr style=\"text-align: right;\">\n",
       "      <th></th>\n",
       "      <th>Age</th>\n",
       "      <th>Sex</th>\n",
       "      <th>Pclass</th>\n",
       "      <th>Survived</th>\n",
       "    </tr>\n",
       "  </thead>\n",
       "  <tbody>\n",
       "    <tr>\n",
       "      <th>0</th>\n",
       "      <td>22.0</td>\n",
       "      <td>male</td>\n",
       "      <td>3</td>\n",
       "      <td>0</td>\n",
       "    </tr>\n",
       "    <tr>\n",
       "      <th>1</th>\n",
       "      <td>38.0</td>\n",
       "      <td>female</td>\n",
       "      <td>1</td>\n",
       "      <td>1</td>\n",
       "    </tr>\n",
       "    <tr>\n",
       "      <th>2</th>\n",
       "      <td>26.0</td>\n",
       "      <td>female</td>\n",
       "      <td>3</td>\n",
       "      <td>1</td>\n",
       "    </tr>\n",
       "    <tr>\n",
       "      <th>3</th>\n",
       "      <td>35.0</td>\n",
       "      <td>female</td>\n",
       "      <td>1</td>\n",
       "      <td>1</td>\n",
       "    </tr>\n",
       "    <tr>\n",
       "      <th>4</th>\n",
       "      <td>35.0</td>\n",
       "      <td>male</td>\n",
       "      <td>3</td>\n",
       "      <td>0</td>\n",
       "    </tr>\n",
       "  </tbody>\n",
       "</table>\n",
       "</div>"
      ],
      "text/plain": [
       "    Age     Sex  Pclass  Survived\n",
       "0  22.0    male       3         0\n",
       "1  38.0  female       1         1\n",
       "2  26.0  female       3         1\n",
       "3  35.0  female       1         1\n",
       "4  35.0    male       3         0"
      ]
     },
     "execution_count": 7,
     "metadata": {},
     "output_type": "execute_result"
    }
   ],
   "source": [
    "training_data2 = training_data[['Age', 'Sex', 'Pclass', 'Survived']].copy()\n",
    "training_data2.head()"
   ]
  },
  {
   "cell_type": "code",
   "execution_count": 8,
   "id": "58da3110",
   "metadata": {
    "execution": {
     "iopub.execute_input": "2023-01-22T05:38:27.949408Z",
     "iopub.status.busy": "2023-01-22T05:38:27.947968Z",
     "iopub.status.idle": "2023-01-22T05:38:27.958344Z",
     "shell.execute_reply": "2023-01-22T05:38:27.957622Z"
    },
    "papermill": {
     "duration": 0.02321,
     "end_time": "2023-01-22T05:38:27.960616",
     "exception": false,
     "start_time": "2023-01-22T05:38:27.937406",
     "status": "completed"
    },
    "tags": []
   },
   "outputs": [
    {
     "data": {
      "text/plain": [
       "Age         177\n",
       "Sex           0\n",
       "Pclass        0\n",
       "Survived      0\n",
       "dtype: int64"
      ]
     },
     "execution_count": 8,
     "metadata": {},
     "output_type": "execute_result"
    }
   ],
   "source": [
    "training_data2.isnull().sum()"
   ]
  },
  {
   "cell_type": "markdown",
   "id": "fdba49ab",
   "metadata": {
    "papermill": {
     "duration": 0.007134,
     "end_time": "2023-01-22T05:38:27.974808",
     "exception": false,
     "start_time": "2023-01-22T05:38:27.967674",
     "status": "completed"
    },
    "tags": []
   },
   "source": [
    "<h2>Age</h2>"
   ]
  },
  {
   "cell_type": "code",
   "execution_count": 9,
   "id": "3b36d5ef",
   "metadata": {
    "execution": {
     "iopub.execute_input": "2023-01-22T05:38:27.993116Z",
     "iopub.status.busy": "2023-01-22T05:38:27.992251Z",
     "iopub.status.idle": "2023-01-22T05:38:28.295255Z",
     "shell.execute_reply": "2023-01-22T05:38:28.293859Z"
    },
    "papermill": {
     "duration": 0.314115,
     "end_time": "2023-01-22T05:38:28.297674",
     "exception": false,
     "start_time": "2023-01-22T05:38:27.983559",
     "status": "completed"
    },
    "tags": []
   },
   "outputs": [
    {
     "data": {
      "text/plain": [
       "<matplotlib.legend.Legend at 0x7fbbbeaf1dd0>"
      ]
     },
     "execution_count": 9,
     "metadata": {},
     "output_type": "execute_result"
    },
    {
     "data": {
      "image/png": "[encoded data removed]",
      "text/plain": [
       "<Figure size 1080x576 with 1 Axes>"
      ]
     },
     "metadata": {
      "needs_background": "light"
     },
     "output_type": "display_data"
    }
   ],
   "source": [
    "# histogram before fill in missing values\n",
    "figure = plt.figure(figsize=(15,8))\n",
    "plt.hist([training_data[training_data['Survived']==0]['Age'],\n",
    "          training_data[training_data['Survived']==1]['Age']], \n",
    "         color = ['skyblue','peachpuff'], bins = 20,\n",
    "         label = ['Not Survived','Survived'])\n",
    "plt.xlabel('Age')\n",
    "plt.ylabel('Population')\n",
    "plt.legend()"
   ]
  },
  {
   "cell_type": "code",
   "execution_count": 10,
   "id": "42c20020",
   "metadata": {
    "execution": {
     "iopub.execute_input": "2023-01-22T05:38:28.313892Z",
     "iopub.status.busy": "2023-01-22T05:38:28.313237Z",
     "iopub.status.idle": "2023-01-22T05:38:28.321476Z",
     "shell.execute_reply": "2023-01-22T05:38:28.320210Z"
    },
    "papermill": {
     "duration": 0.019221,
     "end_time": "2023-01-22T05:38:28.324236",
     "exception": false,
     "start_time": "2023-01-22T05:38:28.305015",
     "status": "completed"
    },
    "tags": []
   },
   "outputs": [
    {
     "data": {
      "text/plain": [
       "29.69911764705882"
      ]
     },
     "execution_count": 10,
     "metadata": {},
     "output_type": "execute_result"
    }
   ],
   "source": [
    "mean_age = training_data['Age'].mean(skipna=True)\n",
    "mean_age"
   ]
  },
  {
   "cell_type": "code",
   "execution_count": 11,
   "id": "710e8865",
   "metadata": {
    "execution": {
     "iopub.execute_input": "2023-01-22T05:38:28.340074Z",
     "iopub.status.busy": "2023-01-22T05:38:28.339723Z",
     "iopub.status.idle": "2023-01-22T05:38:28.353340Z",
     "shell.execute_reply": "2023-01-22T05:38:28.352309Z"
    },
    "papermill": {
     "duration": 0.023822,
     "end_time": "2023-01-22T05:38:28.355403",
     "exception": false,
     "start_time": "2023-01-22T05:38:28.331581",
     "status": "completed"
    },
    "tags": []
   },
   "outputs": [
    {
     "data": {
      "text/html": [
       "<div>\n",
       "<style scoped>\n",
       "    .dataframe tbody tr th:only-of-type {\n",
       "        vertical-align: middle;\n",
       "    }\n",
       "\n",
       "    .dataframe tbody tr th {\n",
       "        vertical-align: top;\n",
       "    }\n",
       "\n",
       "    .dataframe thead th {\n",
       "        text-align: right;\n",
       "    }\n",
       "</style>\n",
       "<table border=\"1\" class=\"dataframe\">\n",
       "  <thead>\n",
       "    <tr style=\"text-align: right;\">\n",
       "      <th></th>\n",
       "      <th>Age</th>\n",
       "      <th>Sex</th>\n",
       "      <th>Pclass</th>\n",
       "      <th>Survived</th>\n",
       "    </tr>\n",
       "  </thead>\n",
       "  <tbody>\n",
       "    <tr>\n",
       "      <th>0</th>\n",
       "      <td>22.0</td>\n",
       "      <td>male</td>\n",
       "      <td>3</td>\n",
       "      <td>0</td>\n",
       "    </tr>\n",
       "    <tr>\n",
       "      <th>1</th>\n",
       "      <td>38.0</td>\n",
       "      <td>female</td>\n",
       "      <td>1</td>\n",
       "      <td>1</td>\n",
       "    </tr>\n",
       "    <tr>\n",
       "      <th>2</th>\n",
       "      <td>26.0</td>\n",
       "      <td>female</td>\n",
       "      <td>3</td>\n",
       "      <td>1</td>\n",
       "    </tr>\n",
       "    <tr>\n",
       "      <th>3</th>\n",
       "      <td>35.0</td>\n",
       "      <td>female</td>\n",
       "      <td>1</td>\n",
       "      <td>1</td>\n",
       "    </tr>\n",
       "    <tr>\n",
       "      <th>4</th>\n",
       "      <td>35.0</td>\n",
       "      <td>male</td>\n",
       "      <td>3</td>\n",
       "      <td>0</td>\n",
       "    </tr>\n",
       "  </tbody>\n",
       "</table>\n",
       "</div>"
      ],
      "text/plain": [
       "    Age     Sex  Pclass  Survived\n",
       "0  22.0    male       3         0\n",
       "1  38.0  female       1         1\n",
       "2  26.0  female       3         1\n",
       "3  35.0  female       1         1\n",
       "4  35.0    male       3         0"
      ]
     },
     "execution_count": 11,
     "metadata": {},
     "output_type": "execute_result"
    }
   ],
   "source": [
    "training_data2[\"Age\"].fillna(mean_age, inplace=True)\n",
    "training_data2.head()"
   ]
  },
  {
   "cell_type": "code",
   "execution_count": 12,
   "id": "57c51255",
   "metadata": {
    "execution": {
     "iopub.execute_input": "2023-01-22T05:38:28.372640Z",
     "iopub.status.busy": "2023-01-22T05:38:28.372237Z",
     "iopub.status.idle": "2023-01-22T05:38:28.640545Z",
     "shell.execute_reply": "2023-01-22T05:38:28.639028Z"
    },
    "papermill": {
     "duration": 0.28049,
     "end_time": "2023-01-22T05:38:28.643340",
     "exception": false,
     "start_time": "2023-01-22T05:38:28.362850",
     "status": "completed"
    },
    "tags": []
   },
   "outputs": [
    {
     "data": {
      "text/plain": [
       "<matplotlib.legend.Legend at 0x7fbbbc94fb50>"
      ]
     },
     "execution_count": 12,
     "metadata": {},
     "output_type": "execute_result"
    },
    {
     "data": {
      "image/png": "[encoded data removed]",
      "text/plain": [
       "<Figure size 1080x576 with 1 Axes>"
      ]
     },
     "metadata": {
      "needs_background": "light"
     },
     "output_type": "display_data"
    }
   ],
   "source": [
    "# histogram after fill in missing values\n",
    "figure = plt.figure(figsize=(15,8))\n",
    "plt.hist([training_data2[training_data['Survived']==0]['Age'],\n",
    "          training_data2[training_data['Survived']==1]['Age']], \n",
    "         color = ['skyblue','peachpuff'], bins = 20,\n",
    "         label = ['Not Survived','Survived'])\n",
    "plt.xlabel('Age')\n",
    "plt.ylabel('Population')\n",
    "plt.legend()"
   ]
  },
  {
   "cell_type": "markdown",
   "id": "bcefcaa2",
   "metadata": {
    "papermill": {
     "duration": 0.007249,
     "end_time": "2023-01-22T05:38:28.658611",
     "exception": false,
     "start_time": "2023-01-22T05:38:28.651362",
     "status": "completed"
    },
    "tags": []
   },
   "source": [
    "<h2>Sex</h2>"
   ]
  },
  {
   "cell_type": "code",
   "execution_count": 13,
   "id": "610afd30",
   "metadata": {
    "execution": {
     "iopub.execute_input": "2023-01-22T05:38:28.675538Z",
     "iopub.status.busy": "2023-01-22T05:38:28.675107Z",
     "iopub.status.idle": "2023-01-22T05:38:28.833424Z",
     "shell.execute_reply": "2023-01-22T05:38:28.832748Z"
    },
    "papermill": {
     "duration": 0.169362,
     "end_time": "2023-01-22T05:38:28.835477",
     "exception": false,
     "start_time": "2023-01-22T05:38:28.666115",
     "status": "completed"
    },
    "tags": []
   },
   "outputs": [
    {
     "data": {
      "text/plain": [
       "<AxesSubplot:>"
      ]
     },
     "execution_count": 13,
     "metadata": {},
     "output_type": "execute_result"
    },
    {
     "data": {
      "image/png": "[encoded data removed]",
      "text/plain": [
       "<Figure size 720x576 with 1 Axes>"
      ]
     },
     "metadata": {
      "needs_background": "light"
     },
     "output_type": "display_data"
    }
   ],
   "source": [
    "# bar chart of sex\n",
    "p_male = training_data2[training_data['Sex']=='male']['Survived'].value_counts()\n",
    "p_female = training_data2[training_data['Sex']=='female']['Survived'].value_counts()\n",
    "ds = pd.DataFrame([p_male,p_female])\n",
    "ds.index = ['Male','Female']\n",
    "ds.plot(kind='bar', figsize=(10,8), color = ['skyblue','peachpuff'],\n",
    "        label = ['Not Survived','Survived'])\n"
   ]
  },
  {
   "cell_type": "code",
   "execution_count": 14,
   "id": "144fc8e0",
   "metadata": {
    "execution": {
     "iopub.execute_input": "2023-01-22T05:38:28.856135Z",
     "iopub.status.busy": "2023-01-22T05:38:28.855722Z",
     "iopub.status.idle": "2023-01-22T05:38:28.872356Z",
     "shell.execute_reply": "2023-01-22T05:38:28.870870Z"
    },
    "papermill": {
     "duration": 0.02871,
     "end_time": "2023-01-22T05:38:28.875029",
     "exception": false,
     "start_time": "2023-01-22T05:38:28.846319",
     "status": "completed"
    },
    "tags": []
   },
   "outputs": [
    {
     "data": {
      "text/html": [
       "<div>\n",
       "<style scoped>\n",
       "    .dataframe tbody tr th:only-of-type {\n",
       "        vertical-align: middle;\n",
       "    }\n",
       "\n",
       "    .dataframe tbody tr th {\n",
       "        vertical-align: top;\n",
       "    }\n",
       "\n",
       "    .dataframe thead th {\n",
       "        text-align: right;\n",
       "    }\n",
       "</style>\n",
       "<table border=\"1\" class=\"dataframe\">\n",
       "  <thead>\n",
       "    <tr style=\"text-align: right;\">\n",
       "      <th></th>\n",
       "      <th>Age</th>\n",
       "      <th>Pclass</th>\n",
       "      <th>Survived</th>\n",
       "      <th>Sex_female</th>\n",
       "      <th>Sex_male</th>\n",
       "    </tr>\n",
       "  </thead>\n",
       "  <tbody>\n",
       "    <tr>\n",
       "      <th>0</th>\n",
       "      <td>22.0</td>\n",
       "      <td>3</td>\n",
       "      <td>0</td>\n",
       "      <td>0</td>\n",
       "      <td>1</td>\n",
       "    </tr>\n",
       "    <tr>\n",
       "      <th>1</th>\n",
       "      <td>38.0</td>\n",
       "      <td>1</td>\n",
       "      <td>1</td>\n",
       "      <td>1</td>\n",
       "      <td>0</td>\n",
       "    </tr>\n",
       "    <tr>\n",
       "      <th>2</th>\n",
       "      <td>26.0</td>\n",
       "      <td>3</td>\n",
       "      <td>1</td>\n",
       "      <td>1</td>\n",
       "      <td>0</td>\n",
       "    </tr>\n",
       "    <tr>\n",
       "      <th>3</th>\n",
       "      <td>35.0</td>\n",
       "      <td>1</td>\n",
       "      <td>1</td>\n",
       "      <td>1</td>\n",
       "      <td>0</td>\n",
       "    </tr>\n",
       "    <tr>\n",
       "      <th>4</th>\n",
       "      <td>35.0</td>\n",
       "      <td>3</td>\n",
       "      <td>0</td>\n",
       "      <td>0</td>\n",
       "      <td>1</td>\n",
       "    </tr>\n",
       "  </tbody>\n",
       "</table>\n",
       "</div>"
      ],
      "text/plain": [
       "    Age  Pclass  Survived  Sex_female  Sex_male\n",
       "0  22.0       3         0           0         1\n",
       "1  38.0       1         1           1         0\n",
       "2  26.0       3         1           1         0\n",
       "3  35.0       1         1           1         0\n",
       "4  35.0       3         0           0         1"
      ]
     },
     "execution_count": 14,
     "metadata": {},
     "output_type": "execute_result"
    }
   ],
   "source": [
    "training_data2=pd.get_dummies(training_data2, columns=['Sex'])\n",
    "training_data2.head()"
   ]
  },
  {
   "cell_type": "code",
   "execution_count": 15,
   "id": "09d97624",
   "metadata": {
    "execution": {
     "iopub.execute_input": "2023-01-22T05:38:28.892869Z",
     "iopub.status.busy": "2023-01-22T05:38:28.892513Z",
     "iopub.status.idle": "2023-01-22T05:38:28.905406Z",
     "shell.execute_reply": "2023-01-22T05:38:28.904138Z"
    },
    "papermill": {
     "duration": 0.024272,
     "end_time": "2023-01-22T05:38:28.907563",
     "exception": false,
     "start_time": "2023-01-22T05:38:28.883291",
     "status": "completed"
    },
    "tags": []
   },
   "outputs": [
    {
     "data": {
      "text/html": [
       "<div>\n",
       "<style scoped>\n",
       "    .dataframe tbody tr th:only-of-type {\n",
       "        vertical-align: middle;\n",
       "    }\n",
       "\n",
       "    .dataframe tbody tr th {\n",
       "        vertical-align: top;\n",
       "    }\n",
       "\n",
       "    .dataframe thead th {\n",
       "        text-align: right;\n",
       "    }\n",
       "</style>\n",
       "<table border=\"1\" class=\"dataframe\">\n",
       "  <thead>\n",
       "    <tr style=\"text-align: right;\">\n",
       "      <th></th>\n",
       "      <th>Age</th>\n",
       "      <th>Pclass</th>\n",
       "      <th>Survived</th>\n",
       "      <th>Sex_male</th>\n",
       "    </tr>\n",
       "  </thead>\n",
       "  <tbody>\n",
       "    <tr>\n",
       "      <th>0</th>\n",
       "      <td>22.0</td>\n",
       "      <td>3</td>\n",
       "      <td>0</td>\n",
       "      <td>1</td>\n",
       "    </tr>\n",
       "    <tr>\n",
       "      <th>1</th>\n",
       "      <td>38.0</td>\n",
       "      <td>1</td>\n",
       "      <td>1</td>\n",
       "      <td>0</td>\n",
       "    </tr>\n",
       "    <tr>\n",
       "      <th>2</th>\n",
       "      <td>26.0</td>\n",
       "      <td>3</td>\n",
       "      <td>1</td>\n",
       "      <td>0</td>\n",
       "    </tr>\n",
       "    <tr>\n",
       "      <th>3</th>\n",
       "      <td>35.0</td>\n",
       "      <td>1</td>\n",
       "      <td>1</td>\n",
       "      <td>0</td>\n",
       "    </tr>\n",
       "    <tr>\n",
       "      <th>4</th>\n",
       "      <td>35.0</td>\n",
       "      <td>3</td>\n",
       "      <td>0</td>\n",
       "      <td>1</td>\n",
       "    </tr>\n",
       "  </tbody>\n",
       "</table>\n",
       "</div>"
      ],
      "text/plain": [
       "    Age  Pclass  Survived  Sex_male\n",
       "0  22.0       3         0         1\n",
       "1  38.0       1         1         0\n",
       "2  26.0       3         1         0\n",
       "3  35.0       1         1         0\n",
       "4  35.0       3         0         1"
      ]
     },
     "execution_count": 15,
     "metadata": {},
     "output_type": "execute_result"
    }
   ],
   "source": [
    "training_data2.drop('Sex_female', axis=1, inplace=True)\n",
    "training_data2.head()"
   ]
  },
  {
   "cell_type": "markdown",
   "id": "9a77ed42",
   "metadata": {
    "papermill": {
     "duration": 0.008112,
     "end_time": "2023-01-22T05:38:28.924053",
     "exception": false,
     "start_time": "2023-01-22T05:38:28.915941",
     "status": "completed"
    },
    "tags": []
   },
   "source": [
    "<h2>Pclass</h2>"
   ]
  },
  {
   "cell_type": "code",
   "execution_count": 16,
   "id": "1c1dfcb4",
   "metadata": {
    "execution": {
     "iopub.execute_input": "2023-01-22T05:38:28.942459Z",
     "iopub.status.busy": "2023-01-22T05:38:28.942073Z",
     "iopub.status.idle": "2023-01-22T05:38:29.127823Z",
     "shell.execute_reply": "2023-01-22T05:38:29.125985Z"
    },
    "papermill": {
     "duration": 0.198398,
     "end_time": "2023-01-22T05:38:29.130871",
     "exception": false,
     "start_time": "2023-01-22T05:38:28.932473",
     "status": "completed"
    },
    "tags": []
   },
   "outputs": [
    {
     "data": {
      "text/plain": [
       "<AxesSubplot:>"
      ]
     },
     "execution_count": 16,
     "metadata": {},
     "output_type": "execute_result"
    },
    {
     "data": {
      "image/png": "[encoded data removed]",
      "text/plain": [
       "<Figure size 720x576 with 1 Axes>"
      ]
     },
     "metadata": {
      "needs_background": "light"
     },
     "output_type": "display_data"
    }
   ],
   "source": [
    "# bar chart of pclass\n",
    "p_p1 = training_data2[training_data['Pclass']==1]['Survived'].value_counts()\n",
    "p_p2 = training_data2[training_data['Pclass']==2]['Survived'].value_counts()\n",
    "p_p3 = training_data2[training_data['Pclass']==3]['Survived'].value_counts()\n",
    "dp = pd.DataFrame([p_p1, p_p2, p_p3])\n",
    "dp.index = ['Pclass 1', 'Pclass 2', 'Pclass 3']\n",
    "dp.plot(kind='bar', figsize=(10,8), color = ['skyblue','peachpuff'],\n",
    "        label = ['Not Survived','Survived'])"
   ]
  },
  {
   "cell_type": "markdown",
   "id": "9200cfa1",
   "metadata": {
    "papermill": {
     "duration": 0.00854,
     "end_time": "2023-01-22T05:38:29.148556",
     "exception": false,
     "start_time": "2023-01-22T05:38:29.140016",
     "status": "completed"
    },
    "tags": []
   },
   "source": [
    "<h2>Model</h2>"
   ]
  },
  {
   "cell_type": "code",
   "execution_count": 17,
   "id": "5f975389",
   "metadata": {
    "execution": {
     "iopub.execute_input": "2023-01-22T05:38:29.167694Z",
     "iopub.status.busy": "2023-01-22T05:38:29.167363Z",
     "iopub.status.idle": "2023-01-22T05:38:29.202062Z",
     "shell.execute_reply": "2023-01-22T05:38:29.201138Z"
    },
    "papermill": {
     "duration": 0.047538,
     "end_time": "2023-01-22T05:38:29.204776",
     "exception": false,
     "start_time": "2023-01-22T05:38:29.157238",
     "status": "completed"
    },
    "tags": []
   },
   "outputs": [
    {
     "data": {
      "text/plain": [
       "0.8013468013468014"
      ]
     },
     "execution_count": 17,
     "metadata": {},
     "output_type": "execute_result"
    }
   ],
   "source": [
    "train_x = training_data2[['Age', 'Sex_male', 'Pclass']]\n",
    "train_y = training_data2['Survived']\n",
    "model = LogisticRegression(multi_class = 'multinomial')\n",
    "model.fit(train_x, train_y)\n",
    "model.score(train_x, train_y)"
   ]
  },
  {
   "cell_type": "code",
   "execution_count": 18,
   "id": "f5c5a0ed",
   "metadata": {
    "execution": {
     "iopub.execute_input": "2023-01-22T05:38:29.223292Z",
     "iopub.status.busy": "2023-01-22T05:38:29.222918Z",
     "iopub.status.idle": "2023-01-22T05:38:29.232699Z",
     "shell.execute_reply": "2023-01-22T05:38:29.231576Z"
    },
    "papermill": {
     "duration": 0.021233,
     "end_time": "2023-01-22T05:38:29.234663",
     "exception": false,
     "start_time": "2023-01-22T05:38:29.213430",
     "status": "completed"
    },
    "tags": []
   },
   "outputs": [
    {
     "data": {
      "text/plain": [
       "array([[0.89005381, 0.10994619],\n",
       "       [0.09546822, 0.90453178],\n",
       "       [0.41568242, 0.58431758],\n",
       "       ...,\n",
       "       [0.4457167 , 0.5542833 ],\n",
       "       [0.47956027, 0.52043973],\n",
       "       [0.91852957, 0.08147043]])"
      ]
     },
     "execution_count": 18,
     "metadata": {},
     "output_type": "execute_result"
    }
   ],
   "source": [
    "model.predict_proba(train_x)"
   ]
  },
  {
   "cell_type": "markdown",
   "id": "55dcfc94",
   "metadata": {
    "papermill": {
     "duration": 0.008578,
     "end_time": "2023-01-22T05:38:29.252377",
     "exception": false,
     "start_time": "2023-01-22T05:38:29.243799",
     "status": "completed"
    },
    "tags": []
   },
   "source": [
    "<h2>Testing</h2>"
   ]
  },
  {
   "cell_type": "code",
   "execution_count": 19,
   "id": "63218cb7",
   "metadata": {
    "execution": {
     "iopub.execute_input": "2023-01-22T05:38:29.272229Z",
     "iopub.status.busy": "2023-01-22T05:38:29.271072Z",
     "iopub.status.idle": "2023-01-22T05:38:29.282616Z",
     "shell.execute_reply": "2023-01-22T05:38:29.281163Z"
    },
    "papermill": {
     "duration": 0.0245,
     "end_time": "2023-01-22T05:38:29.285534",
     "exception": false,
     "start_time": "2023-01-22T05:38:29.261034",
     "status": "completed"
    },
    "tags": []
   },
   "outputs": [
    {
     "data": {
      "text/plain": [
       "PassengerId     0\n",
       "Age            86\n",
       "Sex             0\n",
       "Pclass          0\n",
       "dtype: int64"
      ]
     },
     "execution_count": 19,
     "metadata": {},
     "output_type": "execute_result"
    }
   ],
   "source": [
    "testing_data2 = testing_data[['PassengerId', 'Age', 'Sex', 'Pclass']].copy()\n",
    "testing_data2.isnull().sum()"
   ]
  },
  {
   "cell_type": "code",
   "execution_count": 20,
   "id": "766875f5",
   "metadata": {
    "execution": {
     "iopub.execute_input": "2023-01-22T05:38:29.306225Z",
     "iopub.status.busy": "2023-01-22T05:38:29.305051Z",
     "iopub.status.idle": "2023-01-22T05:38:29.322815Z",
     "shell.execute_reply": "2023-01-22T05:38:29.320979Z"
    },
    "papermill": {
     "duration": 0.030714,
     "end_time": "2023-01-22T05:38:29.325320",
     "exception": false,
     "start_time": "2023-01-22T05:38:29.294606",
     "status": "completed"
    },
    "tags": []
   },
   "outputs": [
    {
     "data": {
      "text/html": [
       "<div>\n",
       "<style scoped>\n",
       "    .dataframe tbody tr th:only-of-type {\n",
       "        vertical-align: middle;\n",
       "    }\n",
       "\n",
       "    .dataframe tbody tr th {\n",
       "        vertical-align: top;\n",
       "    }\n",
       "\n",
       "    .dataframe thead th {\n",
       "        text-align: right;\n",
       "    }\n",
       "</style>\n",
       "<table border=\"1\" class=\"dataframe\">\n",
       "  <thead>\n",
       "    <tr style=\"text-align: right;\">\n",
       "      <th></th>\n",
       "      <th>PassengerId</th>\n",
       "      <th>Age</th>\n",
       "      <th>Pclass</th>\n",
       "      <th>Sex_male</th>\n",
       "    </tr>\n",
       "  </thead>\n",
       "  <tbody>\n",
       "    <tr>\n",
       "      <th>0</th>\n",
       "      <td>892</td>\n",
       "      <td>34.5</td>\n",
       "      <td>3</td>\n",
       "      <td>1</td>\n",
       "    </tr>\n",
       "    <tr>\n",
       "      <th>1</th>\n",
       "      <td>893</td>\n",
       "      <td>47.0</td>\n",
       "      <td>3</td>\n",
       "      <td>0</td>\n",
       "    </tr>\n",
       "    <tr>\n",
       "      <th>2</th>\n",
       "      <td>894</td>\n",
       "      <td>62.0</td>\n",
       "      <td>2</td>\n",
       "      <td>1</td>\n",
       "    </tr>\n",
       "    <tr>\n",
       "      <th>3</th>\n",
       "      <td>895</td>\n",
       "      <td>27.0</td>\n",
       "      <td>3</td>\n",
       "      <td>1</td>\n",
       "    </tr>\n",
       "    <tr>\n",
       "      <th>4</th>\n",
       "      <td>896</td>\n",
       "      <td>22.0</td>\n",
       "      <td>3</td>\n",
       "      <td>0</td>\n",
       "    </tr>\n",
       "  </tbody>\n",
       "</table>\n",
       "</div>"
      ],
      "text/plain": [
       "   PassengerId   Age  Pclass  Sex_male\n",
       "0          892  34.5       3         1\n",
       "1          893  47.0       3         0\n",
       "2          894  62.0       2         1\n",
       "3          895  27.0       3         1\n",
       "4          896  22.0       3         0"
      ]
     },
     "execution_count": 20,
     "metadata": {},
     "output_type": "execute_result"
    }
   ],
   "source": [
    "testing_data2[\"Age\"].fillna(mean_age, inplace=True)\n",
    "testing_data2=pd.get_dummies(testing_data2, columns=['Sex'])\n",
    "testing_data2.drop('Sex_female', axis=1, inplace=True)\n",
    "testing_data2.head()"
   ]
  },
  {
   "cell_type": "code",
   "execution_count": 21,
   "id": "426f7618",
   "metadata": {
    "execution": {
     "iopub.execute_input": "2023-01-22T05:38:29.345290Z",
     "iopub.status.busy": "2023-01-22T05:38:29.344890Z",
     "iopub.status.idle": "2023-01-22T05:38:29.354565Z",
     "shell.execute_reply": "2023-01-22T05:38:29.353254Z"
    },
    "papermill": {
     "duration": 0.022578,
     "end_time": "2023-01-22T05:38:29.357147",
     "exception": false,
     "start_time": "2023-01-22T05:38:29.334569",
     "status": "completed"
    },
    "tags": []
   },
   "outputs": [],
   "source": [
    "test_x = testing_data2[['Age', 'Sex_male', 'Pclass']]\n",
    "testing_pred = model.predict(test_x)"
   ]
  },
  {
   "cell_type": "code",
   "execution_count": 22,
   "id": "ac24ea90",
   "metadata": {
    "execution": {
     "iopub.execute_input": "2023-01-22T05:38:29.377937Z",
     "iopub.status.busy": "2023-01-22T05:38:29.377537Z",
     "iopub.status.idle": "2023-01-22T05:38:29.389665Z",
     "shell.execute_reply": "2023-01-22T05:38:29.388250Z"
    },
    "papermill": {
     "duration": 0.025596,
     "end_time": "2023-01-22T05:38:29.392430",
     "exception": false,
     "start_time": "2023-01-22T05:38:29.366834",
     "status": "completed"
    },
    "tags": []
   },
   "outputs": [],
   "source": [
    "test_res = testing_data2[['PassengerId']].copy()\n",
    "test_res['Survived'] = testing_pred\n",
    "\n",
    "# submission = test_res[['PassengerId','Survived']]\n",
    "test_res.to_csv(\"submission.csv\", index=False)"
   ]
  }
 ],
 "metadata": {
  "kernelspec": {
   "display_name": "Python 3",
   "language": "python",
   "name": "python3"
  },
  "language_info": {
   "codemirror_mode": {
    "name": "ipython",
    "version": 3
   },
   "file_extension": ".py",
   "mimetype": "text/x-python",
   "name": "python",
   "nbconvert_exporter": "python",
   "pygments_lexer": "ipython3",
   "version": "3.7.12"
  },
  "papermill": {
   "default_parameters": {},
   "duration": 11.117204,
   "end_time": "2023-01-22T05:38:30.141751",
   "environment_variables": {},
   "exception": null,
   "input_path": "__notebook__.ipynb",
   "output_path": "__notebook__.ipynb",
   "parameters": {},
   "start_time": "2023-01-22T05:38:19.024547",
   "version": "2.3.4"
  }
 },
 "nbformat": 4,
 "nbformat_minor": 5
}
